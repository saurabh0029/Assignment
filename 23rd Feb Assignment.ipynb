{
 "cells": [
  {
   "cell_type": "markdown",
   "id": "1bd5c9ac-b8fe-4a24-b1c8-8b1f816c6ed4",
   "metadata": {},
   "source": [
    "                                                           23rd Feb Assignment"
   ]
  },
  {
   "cell_type": "code",
   "execution_count": 1,
   "id": "ea5c4beb-203b-4039-b20a-6d8931107b57",
   "metadata": {},
   "outputs": [],
   "source": [
    "import pandas as pd"
   ]
  },
  {
   "cell_type": "code",
   "execution_count": null,
   "id": "6ff306ab-ab16-4762-ba52-d23569c5521f",
   "metadata": {},
   "outputs": [],
   "source": [
    "Q1. Ans\n",
    "\n",
    "data=[4,8,15,16,23,42]\n",
    "\n",
    "ps=pd.Series(data)\n",
    "\n",
    "print(ps)\n"
   ]
  },
  {
   "cell_type": "code",
   "execution_count": null,
   "id": "151efff9-28ad-46a6-a876-65509b9f5b16",
   "metadata": {},
   "outputs": [],
   "source": [
    "Q2. Ans\n",
    "\n",
    "list_data=list(range(1,11))\n",
    "\n",
    "pandas_series = pd.Series(list_data)\n",
    "\n",
    "print(pandas_series)\n"
   ]
  },
  {
   "cell_type": "code",
   "execution_count": null,
   "id": "764e1653-52bb-4207-be45-a400b197a490",
   "metadata": {},
   "outputs": [],
   "source": [
    "Q3. Ans\n",
    "\n",
    "data={\"Name\":[\"Alice\",\"Bob\",\"Claire\"],\"Age\":[25,30,27],\"Gender\":[\"Female\",\"Male\",\"Female\"]}\n",
    "\n",
    "df = pd.DataFrame(data)\n",
    "\n",
    "print(df)"
   ]
  },
  {
   "cell_type": "code",
   "execution_count": null,
   "id": "23902b8d-4940-49db-82d2-ccc7ef84aa20",
   "metadata": {},
   "outputs": [],
   "source": [
    "Q4. Ans\n",
    "\n",
    "# What is DataFrame?\n",
    "\n",
    "A Pandas DataFrame is a 2 dimensional data structure, like a 2 dimensional array, or a table with rows and columns.Each column of a \n",
    "DataFrame is a Pandas Series.\n",
    "\n",
    "# How is it different from pandas.Series?\n",
    "\n",
    "i. DataFrame is Two-dimensional whereas pandas.series is One-dimensional\n",
    "\n",
    "ii. DataFrame is Heterogenous (i.e DataFrame elements can have different data types) whereas pandas.Series is Homogenous (i.e Series\n",
    "    elements must be of the same data type)\n",
    "\n",
    "iii.Size-mutable (Elements can be dropped or added in an existing DataFrame) whereas Size-immutable ( Once created, the size of a Series \n",
    "    object cannot be changed)\n",
    "\n",
    "\n",
    "\n",
    "For example\n",
    "\n",
    "# Creating pandas Series\n",
    "\n",
    "list_data=list(range(1,11))   \n",
    "\n",
    "pandas_series = pd.Series(list_data)\n",
    "\n",
    "print(pandas_series)\n",
    "\n",
    "\n",
    "# Creating Pandas DataFrame\n",
    "\n",
    "data={\"Name\":[\"Alice\",\"Bob\",\"Claire\"],\"Age\":[25,30,27],\"Gender\":[\"Female\",\"Male\",\"Female\"]}\n",
    "\n",
    "df = pd.DataFrame(data)\n",
    "\n",
    "print(df)\n",
    "\n",
    "\n",
    "Here , We can easily see that in Panda Series only one dimensional array print or display whereas in Pandas DataFrame Two-dimensional array \n",
    "print or display\n",
    "\n"
   ]
  },
  {
   "cell_type": "code",
   "execution_count": null,
   "id": "1e20fa62-5ede-4c42-93eb-60625d98e6f3",
   "metadata": {},
   "outputs": [],
   "source": [
    "Q5. Ans\n",
    "\n",
    "Some common functions we can use to manipulate data in a Pandas DataFrames are :-\n",
    "\n",
    "i.    df.head(n): It returns first n rows of the DataFrame.\n",
    "ii.   df.tail(n): It returns last n rows of the DataFrame.\n",
    "iii.  df.shape: It returns number of rows and columns.\n",
    "iv.   df.info(): It returns index, Datatype, and memory information.\n",
    "v.    df.drop() : Removes the column with name 'column_name' from the DataFrame df.\n",
    "vi.   df.groupby() : Groups rows in a DataFrame by one or more columns and applies a function to each.\n",
    "\n",
    "example when we might use one of these function :-\n",
    "\n",
    "Suppose we have a DataFrame 'sales' with columns 'product','region',and 'sales' and we want to compute the total sales for each product by \n",
    "region. Then we can use the grupby() function as follows:\n",
    "    \n",
    "    sales.groupby(['product','region']).sum()\n",
    "    \n",
    "    "
   ]
  },
  {
   "cell_type": "code",
   "execution_count": null,
   "id": "36712952-729d-4176-9897-07be2dc4429b",
   "metadata": {},
   "outputs": [],
   "source": [
    "Q6. Ans\n",
    "\n",
    "DataFrame and Panel are mutable in nature.\n"
   ]
  },
  {
   "cell_type": "code",
   "execution_count": null,
   "id": "0ef2dbaf-47de-44a4-8aef-0293f92945c0",
   "metadata": {},
   "outputs": [],
   "source": [
    "Q7. Ans\n",
    "\n",
    "series1_roll=pd.Series([1,2,3,4,5])\n",
    "\n",
    "series2_name=pd.Series([\"Rahul\",\"Rohit\",\"Rohan\",\"Roy\",\"Ronit\"])\n",
    "\n",
    "df=pd.DataFrame({'Roll':series1_roll,'Name':series2_name})\n",
    "\n",
    "print(df)\n",
    "\n",
    "# Explaination\n",
    "\n",
    "Here , firstly 2 series are created named series1_roll and series2_name then after with the help of these two series the DataFrame is created \n",
    "as df which store roll and crossponding name."
   ]
  }
 ],
 "metadata": {
  "kernelspec": {
   "display_name": "Python 3 (ipykernel)",
   "language": "python",
   "name": "python3"
  },
  "language_info": {
   "codemirror_mode": {
    "name": "ipython",
    "version": 3
   },
   "file_extension": ".py",
   "mimetype": "text/x-python",
   "name": "python",
   "nbconvert_exporter": "python",
   "pygments_lexer": "ipython3",
   "version": "3.10.8"
  }
 },
 "nbformat": 4,
 "nbformat_minor": 5
}
