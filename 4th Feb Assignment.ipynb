{
 "cells": [
  {
   "cell_type": "code",
   "execution_count": null,
   "id": "38b819b2-7ed2-4036-840b-e0b911d0ef5b",
   "metadata": {},
   "outputs": [],
   "source": [
    "Q1. Ans\n",
    "\n",
    "players=[(\"Sachin Tendulkar\",34357),(\"Ricky Ponting\",27483),(\"Jack Kallis\",25534),(\"Virat Kohli\",24936)]\n",
    "players.sort( key = lambda x : x[1])\n",
    "\n",
    "print(players)"
   ]
  },
  {
   "cell_type": "code",
   "execution_count": null,
   "id": "619f6071-6c2f-4d98-93d7-172782959bc8",
   "metadata": {},
   "outputs": [],
   "source": [
    "Q2. Ans\n",
    "\n",
    "l=[1,2,3,4,5,6,7,8,9,10]\n",
    "\n",
    "list(map(lambda x : x**2 , l))"
   ]
  },
  {
   "cell_type": "code",
   "execution_count": null,
   "id": "905bd7dd-1df2-4f9e-b4e0-b15b71c598be",
   "metadata": {},
   "outputs": [],
   "source": [
    "Q3. Ans\n",
    "\n",
    "l1=[1,2,3,4,5,6,7,8,9,10]\n",
    "\n",
    "tuple(map(lambda x : str(x) , l1))"
   ]
  },
  {
   "cell_type": "code",
   "execution_count": null,
   "id": "202f1374-613d-41d8-bf23-f6554a6830c7",
   "metadata": {},
   "outputs": [],
   "source": [
    "Q4. Ans\n",
    "\n",
    "from functools import reduce\n",
    "\n",
    "l2=list(range(1,26))\n",
    "\n",
    "reduce(lambda x,y : x*y ,l2)"
   ]
  },
  {
   "cell_type": "code",
   "execution_count": null,
   "id": "8a09909c-20b2-4216-a084-5382cecf2fbe",
   "metadata": {},
   "outputs": [],
   "source": [
    "Q5. Ans\n",
    "\n",
    "l3=[2,3,6,9,27,60,90,120,55,46]\n",
    "\n",
    "list(filter(lambda x:  x % 2 == 0 and x % 3 == 0 ,l3))"
   ]
  },
  {
   "cell_type": "code",
   "execution_count": null,
   "id": "47d5cf79-ceb9-4b1b-b399-da91a12de24d",
   "metadata": {},
   "outputs": [],
   "source": [
    "Q6. Ans\n",
    "\n",
    "string=['python','php','aba','radar','level']\n",
    "\n",
    "list(filter(lambda x:x==x[::-1],string))"
   ]
  }
 ],
 "metadata": {
  "kernelspec": {
   "display_name": "Python 3 (ipykernel)",
   "language": "python",
   "name": "python3"
  },
  "language_info": {
   "codemirror_mode": {
    "name": "ipython",
    "version": 3
   },
   "file_extension": ".py",
   "mimetype": "text/x-python",
   "name": "python",
   "nbconvert_exporter": "python",
   "pygments_lexer": "ipython3",
   "version": "3.10.8"
  }
 },
 "nbformat": 4,
 "nbformat_minor": 5
}
