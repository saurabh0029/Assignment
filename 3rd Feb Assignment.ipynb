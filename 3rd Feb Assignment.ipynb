{
 "cells": [
  {
   "cell_type": "code",
   "execution_count": null,
   "id": "80556eca-cdde-407c-a14a-a92e078db7e4",
   "metadata": {},
   "outputs": [],
   "source": [
    "3rd Feb Assignment"
   ]
  },
  {
   "cell_type": "code",
   "execution_count": null,
   "id": "5ec7aacc-4bcc-47fe-adcd-a69def55dd2d",
   "metadata": {},
   "outputs": [],
   "source": [
    "Q1. Ans \n",
    "\n",
    "def keyword is used to create a function\n",
    "\n",
    "\n",
    "def odd(n):\n",
    "    odd_no=[]\n",
    "    \n",
    "    for i in n :\n",
    "        if i%2!=0:\n",
    "            odd_no.append(i)\n",
    "    return (odd_no)\n",
    "\n",
    "\n",
    "a=list(range(1,16))\n",
    "odd(a)"
   ]
  },
  {
   "cell_type": "code",
   "execution_count": null,
   "id": "8c412837-2ad4-4084-a59f-56043e3a8a2c",
   "metadata": {},
   "outputs": [],
   "source": [
    "Q2. Ans\n",
    "\n",
    "because we are unsure about total no of arguments to pass in function.Hence we use *args to pass multiple \n",
    "arguments in function and **kwargs to pass multiple key-value pair i.e dictionary.\n",
    "\n",
    "# using *args\n",
    "def sqr(*args):\n",
    "\n",
    "    result=[]\n",
    "    for i in args:\n",
    "        if type(i)==list:\n",
    "            for j in i:\n",
    "                result.append(j**2)\n",
    "        else:\n",
    "            result.append(i**2)\n",
    "    return(result)\n",
    "\n",
    "# using **kwargs\n",
    "\n",
    "def sqr_kv(**kwargs):\n",
    "    return (kwargs)\n",
    "\n",
    "sqr_kv(number=list(range(1,11)),square=sqar(list(range(1,11))))"
   ]
  },
  {
   "cell_type": "code",
   "execution_count": null,
   "id": "ea4f9496-55af-4cb6-bde4-e4c9f8495d56",
   "metadata": {},
   "outputs": [],
   "source": [
    "Q3.Ans\n",
    "\n",
    "An iterator in Python is an object that contains a countable number of elements that can be iterated upon. \n",
    "In a easy words, we can say that Iterators are objects that allow us to traverse through all the elements \n",
    "of a collection and return one element at a time.\n",
    "\n",
    "The method iter() is used to initialise the iterator object and the method next() is used for iteration. \n",
    "\n",
    "#print first five elements\n",
    "\n",
    "l=[2,4,6,8,10,12,14,16,18,20]\n",
    "l1=iter(l)\n",
    "i=1\n",
    "while i<=5:\n",
    "    print(next(l1))\n",
    "    i=i+1\n"
   ]
  },
  {
   "cell_type": "code",
   "execution_count": null,
   "id": "400375c6-6d5a-425e-9ebe-4735c0ec9aca",
   "metadata": {},
   "outputs": [],
   "source": [
    "Q4.Ans\n",
    "\n",
    "A generator function in python is a special function which does not return a single value, instead, it returns \n",
    "an iterator object with a sequence of values. It allows us to create own iterator function.\n",
    "\n",
    "Yield keyword in Python that is used to return from the function without destroying the state of a local variable.\n",
    "\n",
    "# Example\n",
    "\n",
    "def genfunct(n):\n",
    "    i=1\n",
    "    while i<=10:\n",
    "        yield n*i\n",
    "        i=i+1\n",
    "\n",
    "a=genfunct(int(input(\"Enter Your No:-\")))\n",
    "for j in a:\n",
    "    print(j)\n"
   ]
  },
  {
   "cell_type": "code",
   "execution_count": null,
   "id": "2334823a-e803-47c1-9f33-5c354050cf28",
   "metadata": {},
   "outputs": [],
   "source": [
    "Q5.Ans\n",
    "\n",
    "def prime_gen():\n",
    "    \n",
    "    for j in range(1,1000):\n",
    "        count=0\n",
    "        \n",
    "        for i in range(1,j+1):\n",
    "            \n",
    "            if j%i==0:\n",
    "                \n",
    "                count=count+1\n",
    "                \n",
    "        if count==2:\n",
    "            \n",
    "            yield j\n",
    "            \n",
    "            \n",
    "a1=prime_gen()\n",
    "\n",
    "i=1\n",
    "while i<=20:\n",
    "    print(next(a1))\n",
    "    i=i+1"
   ]
  },
  {
   "cell_type": "code",
   "execution_count": null,
   "id": "6052bcf7-67b5-4965-ae01-7e77f0db350e",
   "metadata": {},
   "outputs": [],
   "source": [
    "Q6. Ans\n",
    "\n",
    "i=1\n",
    "a=0\n",
    "b=1\n",
    "\n",
    "while i<=10:\n",
    "    print(a)\n",
    "    c=a+b\n",
    "    a=b\n",
    "    b=c\n",
    "    \n",
    "    i=i+1"
   ]
  },
  {
   "cell_type": "code",
   "execution_count": null,
   "id": "6b8669b6-df1a-445d-b010-aeaa03b7010b",
   "metadata": {},
   "outputs": [],
   "source": [
    "Q7. Ans\n",
    "\n",
    "string=\"pwskills\"\n",
    "\n",
    "[i for i in string]"
   ]
  },
  {
   "cell_type": "code",
   "execution_count": null,
   "id": "0eea79cf-2202-467c-ab77-c5d22bd3230a",
   "metadata": {},
   "outputs": [],
   "source": [
    "Q8. Ans\n",
    "\n",
    "num=int(input(\"Enter your No. :-\"))\n",
    "rem=0\n",
    "result=0\n",
    "n=num\n",
    "while n>0:\n",
    "    rem=n%10\n",
    "    n=n//10\n",
    "    result=result*10+rem\n",
    "    \n",
    "if num == result:\n",
    "    \n",
    "    print(num,\"is a Palindrome\")\n",
    "\n",
    "else:\n",
    "    print(num,\"is not a Palindrome\")"
   ]
  },
  {
   "cell_type": "code",
   "execution_count": null,
   "id": "c8cc5a3d-7701-4db5-a44f-8fc952182639",
   "metadata": {},
   "outputs": [],
   "source": [
    "Q9. Ans\n",
    "\n",
    "[i for i in range(1,101) if i%2!=0]"
   ]
  }
 ],
 "metadata": {
  "kernelspec": {
   "display_name": "Python 3 (ipykernel)",
   "language": "python",
   "name": "python3"
  },
  "language_info": {
   "codemirror_mode": {
    "name": "ipython",
    "version": 3
   },
   "file_extension": ".py",
   "mimetype": "text/x-python",
   "name": "python",
   "nbconvert_exporter": "python",
   "pygments_lexer": "ipython3",
   "version": "3.10.8"
  }
 },
 "nbformat": 4,
 "nbformat_minor": 5
}
