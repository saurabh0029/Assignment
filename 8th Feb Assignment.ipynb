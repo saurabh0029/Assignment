{
 "cells": [
  {
   "cell_type": "code",
   "execution_count": null,
   "id": "2f9e3789-e568-4b13-9b26-788456f3f072",
   "metadata": {},
   "outputs": [],
   "source": [
    "Q1. Ans\n",
    "\n",
    "\n",
    "Actually, abstraction is one of the most essential and important features of object oriented programming.\n",
    "Abstraction means displaying only essential information and hiding the details.\n",
    "\n",
    "Abstraction refers to providing only essential information about the data to the outside world, hiding the\n",
    "background details or implementation.\n",
    "\n",
    "For Example: -\n",
    "\n",
    "If I consider a real – life example of a man driving a car . The man only knows that pressing the accelerators\n",
    "will increase the speed of the car or applying brakes will stop the car but he does not know about how on \n",
    "pressing accelerator the speed is actually increasing, he does not know about the inner mechanism of the \n",
    "car or the implementation of accelerator, brakes etc. In the car. \n"
   ]
  },
  {
   "cell_type": "code",
   "execution_count": null,
   "id": "5fa61558-a24c-49a1-9804-b2feebbea824",
   "metadata": {},
   "outputs": [],
   "source": [
    "Q2. Ans\n",
    "\n",
    "\n",
    "i.\tAbstraction is hiding the details and implementation of the code whereas Encapsulation is hiding the \n",
    "data and controlling the visibility of the code.\n",
    "\n",
    "ii.\tAbstraction is a design level process whereas Encapsulation is an implementation level process.\n",
    "\n",
    "iii. Abstraction is concerned about what a class instance can do, instead of the implementation of the\n",
    "class whereas Encapsulation helps in data binding and control over maintaining the transparency of the data.\n",
    "\n",
    "\n",
    "iv.\tAbstraction is a design level process and it is used to reduce the complexity at the designing stage of a \n",
    "project whereas Encapsulation is an implementation level process, and it is used to provide privacy and maintain \n",
    "control over the transparency of data at the implementation stage of a project.\n",
    "\n",
    "\n",
    "\n",
    "For Example\n",
    "\n",
    "\n",
    "Abstraction is used in mobile phones’ GUI. When we click on the icons, abstraction allows them to perform specific\n",
    "functions.  After the icon is clicked, the encapsulation works in the backend to guide the user on the next steps."
   ]
  },
  {
   "cell_type": "code",
   "execution_count": null,
   "id": "f7ab90b0-bf03-4e64-b017-b15252968e7c",
   "metadata": {},
   "outputs": [],
   "source": [
    "Q3. Ans\n",
    "\n",
    "The 'abc' module in Python library provides the infrastructure for defining custom abstract base classes.\n",
    "'abc' works by marking methods of the base class as abstract. This is done by @absttractmethod decorator. \n",
    "\n",
    "An abstract base class is a class that is used as a blueprint for other classes. Abstract base classes are\n",
    "a powerful feature in Python since they help you define a blueprint for other classes that may have something \n",
    "in common.\n",
    "\n"
   ]
  },
  {
   "cell_type": "code",
   "execution_count": null,
   "id": "8149de93-79cf-46d7-af4f-ce672b8d053a",
   "metadata": {},
   "outputs": [],
   "source": [
    "Q4. Ans\n",
    "\n",
    "Actually, in  Python, abstraction can be achieved by having/using abstract classes and methods in our programs.\n",
    "First of all we have to understand Abstract Methods and Classes:\n",
    "    \n",
    " An abstract method is a method that is declared, but does not contain implementation. An abstract method \n",
    "in a base class identifies the functionality that should be implemented by all its subclasses. However, \n",
    "since the implementation of an abstract method would differ from one subclass to another, often the method\n",
    "body comprises just a pass statement. Every subclass of the base class will ride this method with its implementation.\n",
    "A class containing abstract methods is called abstract class.Python provides the abc module to use the abstraction in\n",
    "the Python program, syntax as:\n",
    "    \n",
    "from abc import ABC,   \n",
    "class ClassName(ABC):\n"
   ]
  },
  {
   "cell_type": "code",
   "execution_count": null,
   "id": "b408adc7-3d76-4184-b674-8d58e9285044",
   "metadata": {},
   "outputs": [],
   "source": [
    "Q5. Ans\n",
    "\n",
    "\n",
    "Actually, We can’t create instance of an abstract class because it does not have a complete implementation.\n",
    "The purpose of an abstract class is to function as a base for subclasses. It acts like a template, or an empty\n",
    "or partially empty structure, we should extend it and build on it before we can use it.\n",
    "\n"
   ]
  }
 ],
 "metadata": {
  "kernelspec": {
   "display_name": "Python 3 (ipykernel)",
   "language": "python",
   "name": "python3"
  },
  "language_info": {
   "codemirror_mode": {
    "name": "ipython",
    "version": 3
   },
   "file_extension": ".py",
   "mimetype": "text/x-python",
   "name": "python",
   "nbconvert_exporter": "python",
   "pygments_lexer": "ipython3",
   "version": "3.10.8"
  }
 },
 "nbformat": 4,
 "nbformat_minor": 5
}
