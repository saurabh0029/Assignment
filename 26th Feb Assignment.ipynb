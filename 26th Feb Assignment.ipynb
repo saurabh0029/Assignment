{
 "cells": [
  {
   "cell_type": "markdown",
   "id": "4880ca90-41ed-47c1-a698-c3f65e3924ca",
   "metadata": {},
   "source": [
    "                                                            26th Feb Assignment"
   ]
  },
  {
   "cell_type": "markdown",
   "id": "fc4da6eb-ee0e-4efd-8cea-ce0fa63b7add",
   "metadata": {},
   "source": [
    "Q1.Ans"
   ]
  },
  {
   "cell_type": "code",
   "execution_count": 1,
   "id": "d72b5818-4f16-45de-9b30-683ae62f1d93",
   "metadata": {},
   "outputs": [
    {
     "name": "stdout",
     "output_type": "stream",
     "text": [
      "Data type of array_list is  <class 'numpy.ndarray'>\n",
      "Data type of list_ is  <class 'list'>\n"
     ]
    }
   ],
   "source": [
    "import numpy as np\n",
    "\n",
    "list_=['1','2','3','4','5']\n",
    "\n",
    "array_list = np.array(object=list_)\n",
    "\n",
    "# Yeah, both are different \n",
    "\n",
    "arr=type(array_list)\n",
    "lst=type(list_)\n",
    "\n",
    "print(\"Data type of array_list is \",arr)\n",
    "\n",
    "print(\"Data type of list_ is \",lst)"
   ]
  },
  {
   "cell_type": "code",
   "execution_count": null,
   "id": "70571b6b-49ac-4dc9-859c-14b62c104765",
   "metadata": {},
   "outputs": [],
   "source": []
  },
  {
   "cell_type": "markdown",
   "id": "b37ab2ec-d259-4e81-8a9c-67124af1e9ee",
   "metadata": {},
   "source": [
    "Q2.Ans"
   ]
  },
  {
   "cell_type": "code",
   "execution_count": 2,
   "id": "6201921e-08fd-4d33-9d3e-eff0efcd92de",
   "metadata": {},
   "outputs": [
    {
     "name": "stdout",
     "output_type": "stream",
     "text": [
      "Data type of each and every elements in  list_ is  List    object\n",
      "dtype: object\n",
      "Data type of each and every elements in  array_list is  0    object\n",
      "dtype: object\n"
     ]
    }
   ],
   "source": [
    "import pandas as pd\n",
    "\n",
    "df =pd.DataFrame({\"List\":list_}) # creating dataframe of list_ \n",
    "df1=pd.DataFrame(array_list)     # creating dataframe of array_list\n",
    "\n",
    "lst_elements = df.dtypes   # finding datatypes of each element in a list\n",
    "\n",
    "arr_elements = df1.dtypes   # finding datatypes of each element in a array\n",
    "\n",
    "\n",
    "print(\"Data type of each and every elements in  list_ is \",lst_elements)\n",
    "print(\"Data type of each and every elements in  array_list is \",arr_elements)\n",
    "\n"
   ]
  },
  {
   "cell_type": "code",
   "execution_count": null,
   "id": "570a9df9-29c6-4c02-ae7c-ace33b7c98ac",
   "metadata": {},
   "outputs": [],
   "source": []
  },
  {
   "cell_type": "markdown",
   "id": "ca3951b8-ad06-4bb6-aff9-448efa2c3a4d",
   "metadata": {},
   "source": [
    "Q3.Ans"
   ]
  },
  {
   "cell_type": "code",
   "execution_count": 3,
   "id": "cfedb9ef-73a9-4437-b776-354ac3ac719b",
   "metadata": {},
   "outputs": [
    {
     "name": "stdout",
     "output_type": "stream",
     "text": [
      "Data type of each and every elements in  list_ is  List    object\n",
      "dtype: object\n",
      "Data type of each and every elements in  array_list is  0    int64\n",
      "dtype: object\n"
     ]
    }
   ],
   "source": [
    "# yeah both will be different\n",
    "\n",
    "array_list1 = np.array(object=list_ , dtype = int)\n",
    "\n",
    "\n",
    "df2=pd.DataFrame(array_list1)\n",
    "\n",
    "lst_elements1 = df.dtypes   # finding datatypes of each element in a list\n",
    "\n",
    "arr_elements1 = df2.dtypes   # finding datatypes of each element in a array\n",
    "\n",
    "\n",
    "print(\"Data type of each and every elements in  list_ is \",lst_elements1)\n",
    "print(\"Data type of each and every elements in  array_list is \",arr_elements1)"
   ]
  },
  {
   "cell_type": "code",
   "execution_count": null,
   "id": "c3ac3220-9cdd-477f-9d6b-3ed57ce72ca0",
   "metadata": {},
   "outputs": [],
   "source": []
  },
  {
   "cell_type": "markdown",
   "id": "f20bbb2e-72ad-45ee-9f7b-9ef6ceddfe5f",
   "metadata": {},
   "source": [
    "Q4.Ans"
   ]
  },
  {
   "cell_type": "code",
   "execution_count": 4,
   "id": "0508b8e6-b1b6-4e1d-913d-34ba10fabf8c",
   "metadata": {},
   "outputs": [],
   "source": [
    "import numpy as np\n",
    "\n",
    "num_list=[[1,2,3],[4,5,6]]\n",
    "\n",
    "num_array=np.array(object=num_list)"
   ]
  },
  {
   "cell_type": "code",
   "execution_count": 5,
   "id": "adf83958-9b48-4107-ac00-170f23d9622e",
   "metadata": {},
   "outputs": [
    {
     "data": {
      "text/plain": [
       "(2, 3)"
      ]
     },
     "execution_count": 5,
     "metadata": {},
     "output_type": "execute_result"
    }
   ],
   "source": [
    "#Q4(i)\n",
    "\n",
    "num_array.shape"
   ]
  },
  {
   "cell_type": "code",
   "execution_count": 6,
   "id": "d3ea0074-ed6e-4af8-a8d0-4b066d8b375c",
   "metadata": {},
   "outputs": [
    {
     "data": {
      "text/plain": [
       "6"
      ]
     },
     "execution_count": 6,
     "metadata": {},
     "output_type": "execute_result"
    }
   ],
   "source": [
    "#Q4(ii)\n",
    "\n",
    "num_array.size"
   ]
  },
  {
   "cell_type": "code",
   "execution_count": null,
   "id": "90663144-594b-48a9-856f-fed7f28b4bad",
   "metadata": {},
   "outputs": [],
   "source": []
  },
  {
   "cell_type": "markdown",
   "id": "07efdc9e-4d15-4807-bc87-61a34d8847f4",
   "metadata": {},
   "source": [
    "Q5.Ans"
   ]
  },
  {
   "cell_type": "code",
   "execution_count": 7,
   "id": "be94537d-3739-47f3-b7af-ab0c7bc82ef5",
   "metadata": {},
   "outputs": [
    {
     "name": "stdout",
     "output_type": "stream",
     "text": [
      "[[0. 0. 0.]\n",
      " [0. 0. 0.]\n",
      " [0. 0. 0.]]\n"
     ]
    }
   ],
   "source": [
    "mat_3by3= np.zeros((3,3))\n",
    "\n",
    "print(mat_3by3)"
   ]
  },
  {
   "cell_type": "code",
   "execution_count": null,
   "id": "08fce919-53cf-48af-bf9a-2c3aae2d9d94",
   "metadata": {},
   "outputs": [],
   "source": []
  },
  {
   "cell_type": "markdown",
   "id": "517d14ee-04d2-4ab2-ad45-3f271c93cfb0",
   "metadata": {},
   "source": [
    "Q6.Ans\n"
   ]
  },
  {
   "cell_type": "code",
   "execution_count": 8,
   "id": "126064a8-dff4-4a12-8443-5eddcd1bc1ec",
   "metadata": {},
   "outputs": [
    {
     "name": "stdout",
     "output_type": "stream",
     "text": [
      "[[1. 0. 0. 0. 0.]\n",
      " [0. 1. 0. 0. 0.]\n",
      " [0. 0. 1. 0. 0.]\n",
      " [0. 0. 0. 1. 0.]\n",
      " [0. 0. 0. 0. 1.]]\n"
     ]
    }
   ],
   "source": [
    "mat_1=np.identity(5)\n",
    "\n",
    "print(mat_1)"
   ]
  },
  {
   "cell_type": "code",
   "execution_count": null,
   "id": "4912fb2c-0891-410a-9c6c-e088e037e8cf",
   "metadata": {},
   "outputs": [],
   "source": []
  }
 ],
 "metadata": {
  "kernelspec": {
   "display_name": "Python 3 (ipykernel)",
   "language": "python",
   "name": "python3"
  },
  "language_info": {
   "codemirror_mode": {
    "name": "ipython",
    "version": 3
   },
   "file_extension": ".py",
   "mimetype": "text/x-python",
   "name": "python",
   "nbconvert_exporter": "python",
   "pygments_lexer": "ipython3",
   "version": "3.10.8"
  }
 },
 "nbformat": 4,
 "nbformat_minor": 5
}
