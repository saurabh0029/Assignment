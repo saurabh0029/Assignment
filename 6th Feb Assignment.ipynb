{
 "cells": [
  {
   "cell_type": "code",
   "execution_count": null,
   "id": "20b38145-fd83-4e6d-85ff-b395efc5c1f6",
   "metadata": {},
   "outputs": [],
   "source": [
    "Q1. Ans\n",
    "\n",
    "list1=[1,2,3,4,[44,55,66,True],False,(34,56,78,89,34),{1,2,3,3,2,1},{1:34,\"key2\":[55,67,78,89],4:(45,22,61,34)}\n",
    "       ,[56,'data science'],'Machine Learning']\n",
    "\n",
    "\n",
    "list_num=[]\n",
    "\n",
    "def numbers(a):\n",
    "    \n",
    "    for i in a:\n",
    "        if type(i)==int:\n",
    "            list_num.append(i)\n",
    "        elif type(i)==list or type(i)==tuple or type(i)==set:\n",
    "            for j in i:\n",
    "                if type(j)==int:\n",
    "                    list_num.append(j)\n",
    "        elif type(i)==dict:\n",
    "            for j in i.values():\n",
    "                if type(j)==int:\n",
    "                    list_num.append(j)\n",
    "                elif type(j)==list or type(j)==tuple or type(j)==set:\n",
    "                    for k in j:\n",
    "                        if type(k)==int:\n",
    "                            list_num.append(k)\n",
    "        \n",
    "        \n",
    "numbers(list1) # function call\n",
    "\n",
    "\n",
    "\n",
    "product=1\n",
    "for i in list_num:\n",
    "    product=product*i\n",
    "    \n",
    "      \n",
    "print(product)\n",
    "    \n",
    "   "
   ]
  },
  {
   "cell_type": "code",
   "execution_count": null,
   "id": "a8df959f-4d64-44ef-9276-8fc6ed952edc",
   "metadata": {},
   "outputs": [],
   "source": [
    "Q2. Ans\n",
    "\n",
    "input_sen=\"I want to be a Data Scientist.\" #input message\n",
    "\n",
    "message=input_sen.lower()          #convert into lowercase\n",
    "\n",
    "encrypt=message\n",
    "\n",
    "\n",
    "for i in message:\n",
    "    \n",
    "    if i == 'a':\n",
    "        encrypt=encrypt.replace('a','z')\n",
    "    elif i == 'b':\n",
    "        encrypt=encrypt.replace('b','y')\n",
    "    elif i == 'c':\n",
    "        encrypt=encrypt.replace('c','x')\n",
    "    elif i == ' ':\n",
    "        encrypt=encrypt.replace(' ','$')\n",
    "        \n",
    "        \n",
    "print(\"Encrypted Message  \",encrypt)\n",
    "    "
   ]
  }
 ],
 "metadata": {
  "kernelspec": {
   "display_name": "Python 3 (ipykernel)",
   "language": "python",
   "name": "python3"
  },
  "language_info": {
   "codemirror_mode": {
    "name": "ipython",
    "version": 3
   },
   "file_extension": ".py",
   "mimetype": "text/x-python",
   "name": "python",
   "nbconvert_exporter": "python",
   "pygments_lexer": "ipython3",
   "version": "3.10.8"
  }
 },
 "nbformat": 4,
 "nbformat_minor": 5
}
